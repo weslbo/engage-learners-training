{
 "cells": [
  {
   "attachments": {},
   "cell_type": "markdown",
   "metadata": {},
   "source": [
    "# Mindmap in notebooks\n",
    "\n",
    "This notebook is a demonstration of how to create mindmaps in a notebook using code. We're using plantuml syntax.\n",
    "\n",
    "For more information about the syntax, see the [plantuml documentation](https://plantuml.com/mindmap-diagram).\n",
    "\n",
    "The following cell installs the iplantuml library. This Python package defines a PlantUML cell magic for IPython. It lets you generate UML diagrams as inline SVG in your notebook. Check out the documentation [here](9https://pypi.org/project/IPlantUML/)"
   ]
  },
  {
   "cell_type": "code",
   "execution_count": null,
   "metadata": {},
   "outputs": [],
   "source": [
    "%pip install iplantuml\n",
    "import iplantuml"
   ]
  },
  {
   "attachments": {},
   "cell_type": "markdown",
   "metadata": {},
   "source": [
    "Notice that the following code cell starts with the %%plantuml magic. This tells the notebook to run the cell with the iplantuml library. "
   ]
  },
  {
   "cell_type": "code",
   "execution_count": 15,
   "metadata": {},
   "outputs": [
    {
     "data": {
      "image/svg+xml": "<svg xmlns=\"http://www.w3.org/2000/svg\" xmlns:xlink=\"http://www.w3.org/1999/xlink\" contentStyleType=\"text/css\" height=\"562.5px\" preserveAspectRatio=\"none\" style=\"width:1395px;height:562px;\" version=\"1.1\" viewBox=\"0 0 1395 562\" width=\"1395.8333px\" zoomAndPan=\"magnify\"><defs><linearGradient id=\"g17v57mynyo06a0\" x1=\"50%\" x2=\"50%\" y1=\"0%\" y2=\"100%\"><stop offset=\"0%\" stop-color=\"#F5F5F5\"/><stop offset=\"100%\" stop-color=\"#F2F2F2\"/></linearGradient></defs><g><rect fill=\"#FFD700\" height=\"60.3516\" rx=\"10.4167\" ry=\"10.4167\" style=\"stroke:#C2C2C2;stroke-width:1.0416666666666667;\" width=\"106.25\" x=\"481.25\" y=\"250.3499\"/><text fill=\"#009FDB\" font-family=\"Verdana\" font-size=\"12.5\" lengthAdjust=\"spacing\" textLength=\"54.1667\" x=\"496.875\" y=\"277.5777\">Power BI</text><text fill=\"#009FDB\" font-family=\"Verdana\" font-size=\"12.5\" lengthAdjust=\"spacing\" textLength=\"75\" x=\"496.875\" y=\"292.1285\">DATE tables</text><rect fill=\"url(#g17v57mynyo06a0)\" height=\"60.3516\" rx=\"10.4167\" ry=\"10.4167\" style=\"stroke:#C2C2C2;stroke-width:1.0416666666666667;\" width=\"122.9167\" x=\"639.5833\" y=\"150.4476\"/><text fill=\"#009FDB\" font-family=\"Verdana\" font-size=\"12.5\" lengthAdjust=\"spacing\" textLength=\"88.5417\" x=\"655.2083\" y=\"177.6754\">Techniques to</text><text fill=\"#009FDB\" font-family=\"Verdana\" font-size=\"12.5\" lengthAdjust=\"spacing\" textLength=\"91.6667\" x=\"655.2083\" y=\"192.2262\">add date table</text><rect fill=\"url(#g17v57mynyo06a0)\" height=\"45.8008\" rx=\"10.4167\" ry=\"10.4167\" style=\"stroke:#C2C2C2;stroke-width:1.0416666666666667;\" width=\"122.9167\" x=\"814.5833\" y=\"20.8333\"/><text fill=\"#009FDB\" font-family=\"Verdana\" font-size=\"12.5\" lengthAdjust=\"spacing\" textLength=\"91.6667\" x=\"830.2083\" y=\"48.0611\">Auto date/time</text><text fill=\"#009FDB\" font-family=\"Verdana\" font-size=\"12.5\" lengthAdjust=\"spacing\" textLength=\"154.1667\" x=\"1001.0417\" y=\"40.7857\">Doesn't support a single</text><text fill=\"#009FDB\" font-family=\"Verdana\" font-size=\"12.5\" lengthAdjust=\"spacing\" textLength=\"110.4167\" x=\"1001.0417\" y=\"55.3365\">date table design</text><path d=\"M937.5,43.7337 L947.9167,43.7337 C963.5417,43.7337 963.5417,43.7337 979.1667,43.7337 L989.5833,43.7337 \" fill=\"none\" style=\"stroke:#009FDB;stroke-width:3.125;\"/><path d=\"M762.5,180.6234 L772.9167,180.6234 C788.5417,180.6234 788.5417,43.7337 804.1667,43.7337 L814.5833,43.7337 \" fill=\"none\" style=\"stroke:#009FDB;stroke-width:3.125;\"/><rect fill=\"url(#g17v57mynyo06a0)\" height=\"45.8008\" rx=\"10.4167\" ry=\"10.4167\" style=\"stroke:#C2C2C2;stroke-width:1.0416666666666667;\" width=\"235.4167\" x=\"814.5833\" y=\"87.4674\"/><text fill=\"#009FDB\" font-family=\"Verdana\" font-size=\"12.5\" lengthAdjust=\"spacing\" textLength=\"204.1667\" x=\"830.2083\" y=\"114.6952\">Power Query to connect to DWH</text><text fill=\"#009FDB\" font-family=\"Verdana\" font-size=\"12.5\" lengthAdjust=\"spacing\" textLength=\"138.5417\" x=\"1113.5417\" y=\"107.4198\">Recommended option</text><text fill=\"#009FDB\" font-family=\"Verdana\" font-size=\"12.5\" lengthAdjust=\"spacing\" textLength=\"261.4583\" x=\"1113.5417\" y=\"121.9706\">if you have a data dimension table (DWH)</text><path d=\"M1050,110.3678 L1060.4167,110.3678 C1076.0417,110.3678 1076.0417,110.3678 1091.6667,110.3678 L1102.0833,110.3678 \" fill=\"none\" style=\"stroke:#009FDB;stroke-width:3.125;\"/><path d=\"M762.5,180.6234 L772.9167,180.6234 C788.5417,180.6234 788.5417,110.3678 804.1667,110.3678 L814.5833,110.3678 \" fill=\"none\" style=\"stroke:#009FDB;stroke-width:3.125;\"/><rect fill=\"url(#g17v57mynyo06a0)\" height=\"45.8008\" rx=\"10.4167\" ry=\"10.4167\" style=\"stroke:#C2C2C2;stroke-width:1.0416666666666667;\" width=\"253.125\" x=\"814.5833\" y=\"154.1016\"/><text fill=\"#009FDB\" font-family=\"Verdana\" font-size=\"12.5\" lengthAdjust=\"spacing\" textLength=\"221.875\" x=\"830.2083\" y=\"181.3293\">Power Query to create a date table</text><text fill=\"#009FDB\" font-family=\"Verdana\" font-size=\"12.5\" lengthAdjust=\"spacing\" textLength=\"123.9583\" x=\"1131.25\" y=\"157.4036\">Consider publishing</text><text fill=\"#009FDB\" font-family=\"Verdana\" font-size=\"12.5\" lengthAdjust=\"spacing\" textLength=\"76.0417\" x=\"1131.25\" y=\"171.9543\">as data flow</text><path d=\"M1067.7083,177.002 L1078.125,177.002 C1093.75,177.002 1093.75,160.3516 1109.375,160.3516 L1119.7917,160.3516 \" fill=\"none\" style=\"stroke:#009FDB;stroke-width:3.125;\"/><text fill=\"#009FDB\" font-family=\"Verdana\" font-size=\"12.5\" lengthAdjust=\"spacing\" textLength=\"53.125\" x=\"1131.25\" y=\"205.2551\">Example</text><a href=\"https://blog.crossjoin.co.uk/2013/11/19/generating-a-date-dimension-table-in-power-query/\" target=\"_top\" title=\"https://blog.crossjoin.co.uk/2013/11/19/generating-a-date-dimension-table-in-power-query/\" xlink:actuate=\"onRequest\" xlink:href=\"https://blog.crossjoin.co.uk/2013/11/19/generating-a-date-dimension-table-in-power-query/\" xlink:show=\"new\" xlink:title=\"https://blog.crossjoin.co.uk/2013/11/19/generating-a-date-dimension-table-in-power-query/\" xlink:type=\"simple\"><text fill=\"#FFFFFF\" font-family=\"Verdana\" font-size=\"12.5\" lengthAdjust=\"spacing\" text-decoration=\"underline\" textLength=\"12.5\" x=\"1188.5417\" y=\"205.2551\">🔗</text></a><path d=\"M1067.7083,177.002 L1078.125,177.002 C1093.75,177.002 1093.75,200.9277 1109.375,200.9277 L1119.7917,200.9277 \" fill=\"none\" style=\"stroke:#009FDB;stroke-width:3.125;\"/><path d=\"M762.5,180.6234 L772.9167,180.6234 C788.5417,180.6234 788.5417,177.002 804.1667,177.002 L814.5833,177.002 \" fill=\"none\" style=\"stroke:#009FDB;stroke-width:3.125;\"/><rect fill=\"url(#g17v57mynyo06a0)\" height=\"45.8008\" rx=\"10.4167\" ry=\"10.4167\" style=\"stroke:#C2C2C2;stroke-width:1.0416666666666667;\" width=\"213.5417\" x=\"814.5833\" y=\"227.9785\"/><text fill=\"#009FDB\" font-family=\"Verdana\" font-size=\"12.5\" lengthAdjust=\"spacing\" textLength=\"182.2917\" x=\"830.2083\" y=\"255.2063\">DAX to generate a data table</text><text fill=\"#009FDB\" font-family=\"Verdana\" font-size=\"12.5\" lengthAdjust=\"spacing\" textLength=\"73.9583\" x=\"1091.6667\" y=\"238.5559\">CALENDAR()</text><path d=\"M1028.125,250.8789 L1038.5417,250.8789 C1054.1667,250.8789 1054.1667,234.2285 1069.7917,234.2285 L1080.2083,234.2285 \" fill=\"none\" style=\"stroke:#009FDB;stroke-width:3.125;\"/><text fill=\"#009FDB\" font-family=\"Verdana\" font-size=\"12.5\" lengthAdjust=\"spacing\" textLength=\"109.375\" x=\"1091.6667\" y=\"271.8567\">CALENDARAUTO()</text><path d=\"M1028.125,250.8789 L1038.5417,250.8789 C1054.1667,250.8789 1054.1667,267.5293 1069.7917,267.5293 L1080.2083,267.5293 \" fill=\"none\" style=\"stroke:#009FDB;stroke-width:3.125;\"/><path d=\"M762.5,180.6234 L772.9167,180.6234 C788.5417,180.6234 788.5417,250.8789 804.1667,250.8789 L814.5833,250.8789 \" fill=\"none\" style=\"stroke:#009FDB;stroke-width:3.125;\"/><rect fill=\"url(#g17v57mynyo06a0)\" height=\"45.8008\" rx=\"10.4167\" ry=\"10.4167\" style=\"stroke:#C2C2C2;stroke-width:1.0416666666666667;\" width=\"219.7917\" x=\"814.5833\" y=\"294.6126\"/><text fill=\"#009FDB\" font-family=\"Verdana\" font-size=\"12.5\" lengthAdjust=\"spacing\" textLength=\"188.5417\" x=\"830.2083\" y=\"321.8404\">DAX to clone an existing table</text><text fill=\"#009FDB\" font-family=\"Verdana\" font-size=\"12.5\" lengthAdjust=\"spacing\" textLength=\"162.5\" x=\"1097.9167\" y=\"314.565\">When your model already</text><text fill=\"#009FDB\" font-family=\"Verdana\" font-size=\"12.5\" lengthAdjust=\"spacing\" textLength=\"101.0417\" x=\"1097.9167\" y=\"329.1158\">has a date table</text><path d=\"M1034.375,317.513 L1044.7917,317.513 C1060.4167,317.513 1060.4167,317.513 1076.0417,317.513 L1086.4583,317.513 \" fill=\"none\" style=\"stroke:#009FDB;stroke-width:3.125;\"/><path d=\"M762.5,180.6234 L772.9167,180.6234 C788.5417,180.6234 788.5417,317.513 804.1667,317.513 L814.5833,317.513 \" fill=\"none\" style=\"stroke:#009FDB;stroke-width:3.125;\"/><path d=\"M587.5,280.5257 L597.9167,280.5257 C613.5417,280.5257 613.5417,180.6234 629.1667,180.6234 L639.5833,180.6234 \" fill=\"none\" style=\"stroke:#009FDB;stroke-width:3.125;\"/><rect fill=\"url(#g17v57mynyo06a0)\" height=\"60.3516\" rx=\"10.4167\" ry=\"10.4167\" style=\"stroke:#C2C2C2;stroke-width:1.0416666666666667;\" width=\"115.625\" x=\"639.5833\" y=\"420.5566\"/><text fill=\"#009FDB\" font-family=\"Verdana\" font-size=\"12.5\" lengthAdjust=\"spacing\" textLength=\"64.5833\" x=\"655.2083\" y=\"447.7844\">Date table</text><text fill=\"#009FDB\" font-family=\"Verdana\" font-size=\"12.5\" lengthAdjust=\"spacing\" textLength=\"84.375\" x=\"655.2083\" y=\"462.3352\">requirements</text><text fill=\"#009FDB\" font-family=\"Verdana\" font-size=\"12.5\" lengthAdjust=\"spacing\" textLength=\"216.6667\" x=\"818.75\" y=\"371.8079\">It must have a column of date/time</text><path d=\"M755.2083,450.7324 L765.625,450.7324 C781.25,450.7324 781.25,367.4805 796.875,367.4805 L807.2917,367.4805 \" fill=\"none\" style=\"stroke:#009FDB;stroke-width:3.125;\"/><text fill=\"#009FDB\" font-family=\"Verdana\" font-size=\"12.5\" lengthAdjust=\"spacing\" textLength=\"278.125\" x=\"818.75\" y=\"405.1086\">The date column must contain unique values</text><path d=\"M755.2083,450.7324 L765.625,450.7324 C781.25,450.7324 781.25,400.7813 796.875,400.7813 L807.2917,400.7813 \" fill=\"none\" style=\"stroke:#009FDB;stroke-width:3.125;\"/><text fill=\"#009FDB\" font-family=\"Verdana\" font-size=\"12.5\" lengthAdjust=\"spacing\" textLength=\"256.25\" x=\"818.75\" y=\"438.4094\">The date column must not contain blanks</text><path d=\"M755.2083,450.7324 L765.625,450.7324 C781.25,450.7324 781.25,434.082 796.875,434.082 L807.2917,434.082 \" fill=\"none\" style=\"stroke:#009FDB;stroke-width:3.125;\"/><text fill=\"#009FDB\" font-family=\"Verdana\" font-size=\"12.5\" lengthAdjust=\"spacing\" textLength=\"288.5417\" x=\"818.75\" y=\"471.7102\">The date column must not have missing dates</text><path d=\"M755.2083,450.7324 L765.625,450.7324 C781.25,450.7324 781.25,467.3828 796.875,467.3828 L807.2917,467.3828 \" fill=\"none\" style=\"stroke:#009FDB;stroke-width:3.125;\"/><text fill=\"#009FDB\" font-family=\"Verdana\" font-size=\"12.5\" lengthAdjust=\"spacing\" textLength=\"395.8333\" x=\"818.75\" y=\"505.011\">The date column must span full years (not necessarily jan-dec)</text><path d=\"M755.2083,450.7324 L765.625,450.7324 C781.25,450.7324 781.25,500.6836 796.875,500.6836 L807.2917,500.6836 \" fill=\"none\" style=\"stroke:#009FDB;stroke-width:3.125;\"/><text fill=\"#009FDB\" font-family=\"Verdana\" font-size=\"12.5\" lengthAdjust=\"spacing\" textLength=\"305.2083\" x=\"818.75\" y=\"538.3118\">The date table must be indicated as a date table</text><path d=\"M755.2083,450.7324 L765.625,450.7324 C781.25,450.7324 781.25,533.9844 796.875,533.9844 L807.2917,533.9844 \" fill=\"none\" style=\"stroke:#009FDB;stroke-width:3.125;\"/><path d=\"M587.5,280.5257 L597.9167,280.5257 C613.5417,280.5257 613.5417,450.7324 629.1667,450.7324 L639.5833,450.7324 \" fill=\"none\" style=\"stroke:#009FDB;stroke-width:3.125;\"/><rect fill=\"url(#g17v57mynyo06a0)\" height=\"60.3516\" rx=\"10.4167\" ry=\"10.4167\" style=\"stroke:#C2C2C2;stroke-width:1.0416666666666667;\" width=\"113.5417\" x=\"315.625\" y=\"183.7484\"/><text fill=\"#009FDB\" font-family=\"Verdana\" font-size=\"12.5\" lengthAdjust=\"spacing\" textLength=\"82.2917\" x=\"331.25\" y=\"210.9762\">Comparisons</text><text fill=\"#009FDB\" font-family=\"Verdana\" font-size=\"12.5\" lengthAdjust=\"spacing\" textLength=\"60.4167\" x=\"331.25\" y=\"225.5269\">over time</text><text fill=\"#009FDB\" font-family=\"Verdana\" font-size=\"12.5\" lengthAdjust=\"spacing\" textLength=\"59.375\" x=\"192.7083\" y=\"118.3492\">DATEADD</text><path d=\"M315.625,213.9242 L305.2083,213.9242 C289.5833,213.9242 289.5833,114.0218 273.9583,114.0218 L263.5417,114.0218 \" fill=\"none\" style=\"stroke:#009FDB;stroke-width:3.125;\"/><text fill=\"#009FDB\" font-family=\"Verdana\" font-size=\"12.5\" lengthAdjust=\"spacing\" textLength=\"100\" x=\"152.0833\" y=\"151.65\">PARALLELPERIOD</text><path d=\"M315.625,213.9242 L305.2083,213.9242 C289.5833,213.9242 289.5833,147.3226 273.9583,147.3226 L263.5417,147.3226 \" fill=\"none\" style=\"stroke:#009FDB;stroke-width:3.125;\"/><text fill=\"#009FDB\" font-family=\"Verdana\" font-size=\"12.5\" lengthAdjust=\"spacing\" textLength=\"138.5417\" x=\"113.5417\" y=\"184.9508\">SAMEPERIODLASTYEAR</text><path d=\"M315.625,213.9242 L305.2083,213.9242 C289.5833,213.9242 289.5833,180.6234 273.9583,180.6234 L263.5417,180.6234 \" fill=\"none\" style=\"stroke:#009FDB;stroke-width:3.125;\"/><text fill=\"#009FDB\" font-family=\"Verdana\" font-size=\"12.5\" lengthAdjust=\"spacing\" textLength=\"229.1667\" x=\"22.9167\" y=\"218.2515\">NEXTDAY, NEXTMONTH, NEXTYEAR, ...</text><path d=\"M315.625,213.9242 L305.2083,213.9242 C289.5833,213.9242 289.5833,213.9242 273.9583,213.9242 L263.5417,213.9242 \" fill=\"none\" style=\"stroke:#009FDB;stroke-width:3.125;\"/><text fill=\"#009FDB\" font-family=\"Verdana\" font-size=\"12.5\" lengthAdjust=\"spacing\" textLength=\"217.7083\" x=\"34.375\" y=\"251.5523\">PREVIOUSDAY, PREVIOUSMONTH, ...</text><path d=\"M315.625,213.9242 L305.2083,213.9242 C289.5833,213.9242 289.5833,247.2249 273.9583,247.2249 L263.5417,247.2249 \" fill=\"none\" style=\"stroke:#009FDB;stroke-width:3.125;\"/><text fill=\"#009FDB\" font-family=\"Verdana\" font-size=\"12.5\" lengthAdjust=\"spacing\" textLength=\"154.1667\" x=\"97.9167\" y=\"284.8531\">FIRSTDATE, LASTDATE, ...</text><path d=\"M315.625,213.9242 L305.2083,213.9242 C289.5833,213.9242 289.5833,280.5257 273.9583,280.5257 L263.5417,280.5257 \" fill=\"none\" style=\"stroke:#009FDB;stroke-width:3.125;\"/><text fill=\"#009FDB\" font-family=\"Verdana\" font-size=\"12.5\" lengthAdjust=\"spacing\" textLength=\"96.875\" x=\"155.2083\" y=\"318.1539\">LASTNONBLANK</text><path d=\"M315.625,213.9242 L305.2083,213.9242 C289.5833,213.9242 289.5833,313.8265 273.9583,313.8265 L263.5417,313.8265 \" fill=\"none\" style=\"stroke:#009FDB;stroke-width:3.125;\"/><path d=\"M481.25,280.5257 L470.8333,280.5257 C455.2083,280.5257 455.2083,213.9242 439.5833,213.9242 L429.1667,213.9242 \" fill=\"none\" style=\"stroke:#009FDB;stroke-width:3.125;\"/><rect fill=\"url(#g17v57mynyo06a0)\" height=\"60.3516\" rx=\"10.4167\" ry=\"10.4167\" style=\"stroke:#C2C2C2;stroke-width:1.0416666666666667;\" width=\"130.2083\" x=\"298.9583\" y=\"366.9027\"/><text fill=\"#009FDB\" font-family=\"Verdana\" font-size=\"12.5\" lengthAdjust=\"spacing\" textLength=\"98.9583\" x=\"314.5833\" y=\"394.1305\">Summarizations</text><text fill=\"#009FDB\" font-family=\"Verdana\" font-size=\"12.5\" lengthAdjust=\"spacing\" textLength=\"60.4167\" x=\"314.5833\" y=\"408.6812\">over time</text><text fill=\"#009FDB\" font-family=\"Verdana\" font-size=\"12.5\" lengthAdjust=\"spacing\" textLength=\"216.6667\" x=\"18.75\" y=\"351.4547\">DATESYTD, DATESMTD, DATESQTD</text><path d=\"M298.9583,397.0785 L288.5417,397.0785 C272.9167,397.0785 272.9167,347.1273 257.2917,347.1273 L246.875,347.1273 \" fill=\"none\" style=\"stroke:#009FDB;stroke-width:3.125;\"/><text fill=\"#009FDB\" font-family=\"Verdana\" font-size=\"12.5\" lengthAdjust=\"spacing\" textLength=\"213.5417\" x=\"21.875\" y=\"384.7555\">TOTALYTD, TOTALMTD, TOTALQTD</text><path d=\"M298.9583,397.0785 L288.5417,397.0785 C272.9167,397.0785 272.9167,380.4281 257.2917,380.4281 L246.875,380.4281 \" fill=\"none\" style=\"stroke:#009FDB;stroke-width:3.125;\"/><text fill=\"#009FDB\" font-family=\"Verdana\" font-size=\"12.5\" lengthAdjust=\"spacing\" textLength=\"98.9583\" x=\"136.4583\" y=\"418.0562\">DATESBETWEEN</text><path d=\"M298.9583,397.0785 L288.5417,397.0785 C272.9167,397.0785 272.9167,413.7288 257.2917,413.7288 L246.875,413.7288 \" fill=\"none\" style=\"stroke:#009FDB;stroke-width:3.125;\"/><text fill=\"#009FDB\" font-family=\"Verdana\" font-size=\"12.5\" lengthAdjust=\"spacing\" textLength=\"95.8333\" x=\"139.5833\" y=\"451.357\">DATESINPERIOD</text><path d=\"M298.9583,397.0785 L288.5417,397.0785 C272.9167,397.0785 272.9167,447.0296 257.2917,447.0296 L246.875,447.0296 \" fill=\"none\" style=\"stroke:#009FDB;stroke-width:3.125;\"/><path d=\"M481.25,280.5257 L470.8333,280.5257 C455.2083,280.5257 455.2083,397.0785 439.5833,397.0785 L429.1667,397.0785 \" fill=\"none\" style=\"stroke:#009FDB;stroke-width:3.125;\"/><!--SRC=[xHhRRjiuzbd-2kvaW4q6TU9Bd2R5O54dLYupjfEndNQAfXXG4cMpbaXNef9wYlp50FEulxYVi8UKPEj2s-tMxSCYD5h8F8VdVgFYbw70WV0fStmyg_n3J8XFaEL5P1pWUUMdjpiNt7FUeHl-G09qUdN7EksHYGIsF19MAXvn1GgfGoeL1EidTCRz6Gveo5bun_Wzd17K9mge4Fv0ydoxqybktRG7xMxNxDwOWwlh76JOxfdnRhSz7BqnsuCij6_-FkgqtpnJ3xth_kWoVfHupz3-_dwEoS1yTNLzErG7qY_9eGBg-TLWE99oFaEIRVnKm960_dN_jDlk_vheFeny7tJ_4mkwNltXcr7dMVpKMppzDiffFheUjRiAJptr5ay5F7Nsr1ozDir-QV-gdvYq4j3n9E-f4R4dZ7w8I8W4lsFOSP231ObTkwI4sf7W2dAGKoLbmqd8_WcKezcC1m9XuC767a5tR4aDEIIaOvOX6eVJRn49vi0TsPmnOWlvs7bzMUGn83RtVS8SuY0-ayO5wjH5SnwX2Rudm1HumNyW7mibEEQw2xJsrZ0DY9GGwzHEE9-17y5a0Pf5baV32QW6h74OytCz_b0yONx4_Wnultqx4M8MlZWui3m-thS37eRlEMNxDj-FfWUDMhrvKAyVr4yEneIH04A6ZQkuAaMfBlIeAg6gb5LdKlJg1odw0VhFl__w-zsxZ6ATzkzIeOJImXvwbTfTizzf3tRtLa7QjwFhtRqoUTlZ36WpH3xIKCghP_1wGfXqJO1yxX0FOG_ixCp1RXCmNCdQG7wnSSS2yY6Y0PGW9i9iD5y9v4UXIDrjSo_o6UAk9Z1bxan8p2R1KqSXnWIc34KgwD4zXXeNRZp5-FAavM4s_RmZIawVXZ8P5CRcO-4CJEj6deVc10SXsfLq82j8649HyUReFMPLXzXxMafnn2j25a5GpQaDsmxIcRpo4d8fhVYLbxa602kSKWOr7Fl8mlPq7F28EMVSur3B0in0p02yay6AGd9A11wAEKZWOYyabNJz7ChDVm7NW8CsdnJxqpLK9VmSp1r3TbpNLLkNyna9kfHDu_qVhmVj_eMfGB1B4knQxRcBtSNkQ4BjAGFpeRhQw-5W35wirzIt6oXuqZb7wjjmWXt-8B_NzYNy4Vun2DzOv1IttfBVbEWs3o3PK4CHAse4afouZbLTIYJfsJYkNPyq4gOyNJ0Ja5s78XdDBY6b5dWbzcv3Veh6hBMEZZ5PxCR-ig2x9uGdMPfwtW5n2VZ99clvht5e2ylFQXb28cDAy9Mg5GYiPbWYBQZmf3yD1QL_4kayuvG7eCWWvg1Scbd7ANnf2MC1h0Em81rOlYK_rTG3HjRyAYPIYaLFgO1xS2WUT-2VJ2kGb17nm8EfV3Hoj6HUv0arcrQ3DCeY9O1gobxbls7aiYQMooZa3EI1aPTVnRBnM3524jmhxszDB4KM1m5_K5GrR8roeiipAXlK6SdY8il2QSXFxkIFtQkBoz4VqEH-BIdSK0edHQ85ZsdMjoIZ9FSm4oBZ8873wNRDeFNCid8jfJfIwaEF84MBAVOvEeUjvh6bCr5I4cAVBZClTpeDvVBf65BTiHloanSYoLD9sQTmLH1oTYYwDk6-pCZwKVfDPIyLsAFsQjPvGLCnWAKS23oQS5nL7bV92tDE29rJUzIoMawjfh5t724_7oGDRzaT7UBYo1CIlu_XQfMi7rwHmC4C_w17LTP82qqZYpEZIBFg8DGIALnqizoAU_CIBTl8CgkH9NK3im6rASmc8eqykPfPd5F-CGjBrs6UJXb1LTWbIbkcVr98Csldf2K_MVMWHH8kO2P8kiHPsSMg3YV0R2OcGI81xT8f-z36pMO2p9uwgPyyhyLpmrNfb7FIWfK0iwVmKGEM0fYbKuISr19UPkvK4c8Iq2_NY-V7HnP9WDbJIOu_PioKQtWApIZ5ZQuhQR3Ir4f3Kw4OsOZPSYFDSIyqrSVSZEeHkFQeR5sPvxe0qEJ-OvPi-41z6FUL_VA6JefMKHyWEP86tpmJABJoO91N2zk2tbCnp_bFrreM3jpGMW1X4M4jInMneHpy2sgPfTu0xSxdp5cHOjLbHYqmTUPEO5ghPzIUBSkDr7nhRJLJnigEAra-Re9ROxxHr-dSinIgMJ4A_jrakH1kpd8oBmTiGc15s1dhflTyY2G7pC8rH_BxMAwAoVGbORbI6bTpkQzflntYuRbclqjT8bkzDhRom5nABa0h6eGXfugPLa05qOXoiRn_QMQP3cGjGChyNBUQsaGMjHHFmxa4pcgK0Mfa6wJtixLENMBfz5v0rz5VgVzmqPiBoQF9y-Gsh0_NBupKF7cRUnwnrMlORMPoaGaJ0VU-Qwa0LPEcyDrOMl8m3hulKmnDNMYREWUdZqc1yObQER9DjGfaq-jICQ_gEfdLg5KjDFn2kAyDSXdZBhGJ_N2IAGXVCA7aui-VmQrgkvqopu8oI6TGWUXKM4o-ELOWlzl03VmP7GlwBFXPQvruEgxk4FpyK0t3UNMIxVNcJzxV6Iidby-T3xKH2hV4I3zsdZVEpyvDa5sj0laOk9cyV85luP1iDUiAXLQzH2bgXSEjbamZxXGRfrDjtqZRZYPTsq84r8f45ZtDfXmiVgzGB-Z9hVV4tkw8-PqrY49YVvluo0rGMgsq4Hk0GR7wqzyd_QiLRPhfww9BvESh1Pe1wQI-R7eDkyf4kR5fqyN1vLxyJdoLKkaxYOsrBDtQo36GRvI-bA6cTws-r1PBDXRVlYHzviNqAnC8haiH-ORJ8GxqxU7hvmgNUlz3OzEGJZApx6Hxkbt3FFsCvEbd94y_8tdw6SdJpqZ-Rtz6SWDQYTjU5q6rKibJts_K6itzbaK4FjgzPLF67vYwjChs9MszLzczkEcY49mCDqm7ea7rR3YyL_a5tsCqY9Z4Uu7ajzrHRmyDpNGJcUoU1fn97rT-UTMBaT0b5yCP5mhvwB1wIWKQnd-jVjMhTE8_iC5Hcyk_Hhr0jwFpwd6b2tDh1AFY2qHOvGmwcGZc01l-5m00]--></g></svg>",
      "text/plain": [
       "<IPython.core.display.SVG object>"
      ]
     },
     "execution_count": 15,
     "metadata": {},
     "output_type": "execute_result"
    }
   ],
   "source": [
    "%%plantuml\n",
    "\n",
    "@startmindmap\n",
    "!theme bluegray\n",
    "*[#Gold] Power BI\\nDATE tables\n",
    "\n",
    "left side\n",
    "\n",
    "    * Comparisons\\nover time\n",
    "        *_ DATEADD\n",
    "        *_ PARALLELPERIOD\n",
    "        *_ SAMEPERIODLASTYEAR\n",
    "        *_ NEXTDAY, NEXTMONTH, NEXTYEAR, ...\n",
    "        *_ PREVIOUSDAY, PREVIOUSMONTH, ...\n",
    "        *_ FIRSTDATE, LASTDATE, ...\n",
    "        *_ LASTNONBLANK\n",
    "    * Summarizations\\nover time\n",
    "        *_ DATESYTD, DATESMTD, DATESQTD\n",
    "        *_ TOTALYTD, TOTALMTD, TOTALQTD\n",
    "        *_ DATESBETWEEN\n",
    "        *_ DATESINPERIOD\n",
    "\n",
    "right side\n",
    "\n",
    "    * Techniques to\\nadd date table\n",
    "        * Auto date/time\n",
    "            *_ Doesn't support a single \\ndate table design\n",
    "        * Power Query to connect to DWH\n",
    "            *_ Recommended option \\nif you have a data dimension table (DWH)\n",
    "        * Power Query to create a date table\n",
    "            *_ Consider publishing \\nas data flow\n",
    "            *_ Example [[https://blog.crossjoin.co.uk/2013/11/19/generating-a-date-dimension-table-in-power-query/ 🔗]]\n",
    "        * DAX to generate a data table\n",
    "            *_ CALENDAR()\n",
    "            *_ CALENDARAUTO()\n",
    "        * DAX to clone an existing table\n",
    "            *_ When your model already \\nhas a date table\n",
    "    * Date table\\nrequirements\n",
    "        *_ It must have a column of date/time\n",
    "        *_ The date column must contain unique values\n",
    "        *_ The date column must not contain blanks\n",
    "        *_ The date column must not have missing dates\n",
    "        *_ The date column must span full years (not necessarily jan-dec)\n",
    "        *_ The date table must be indicated as a date table\n",
    "    \n",
    "@endmindmap"
   ]
  }
 ],
 "metadata": {
  "kernelspec": {
   "display_name": "base",
   "language": "python",
   "name": "python3"
  },
  "language_info": {
   "codemirror_mode": {
    "name": "ipython",
    "version": 3
   },
   "file_extension": ".py",
   "mimetype": "text/x-python",
   "name": "python",
   "nbconvert_exporter": "python",
   "pygments_lexer": "ipython3",
   "version": "3.10.9"
  },
  "orig_nbformat": 4
 },
 "nbformat": 4,
 "nbformat_minor": 2
}
