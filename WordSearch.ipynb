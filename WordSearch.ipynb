{
 "cells": [
  {
   "cell_type": "code",
   "execution_count": 7,
   "metadata": {},
   "outputs": [
    {
     "name": "stdout",
     "output_type": "stream",
     "text": [
      "Requirement already satisfied: word-search-generator in c:\\users\\wedebols\\appdata\\local\\anaconda3\\lib\\site-packages (3.2.0)Note: you may need to restart the kernel to use updated packages.\n",
      "\n",
      "Requirement already satisfied: fpdf2==2.4.2 in c:\\users\\wedebols\\appdata\\local\\anaconda3\\lib\\site-packages (from word-search-generator) (2.4.2)\n",
      "Requirement already satisfied: typing-extensions==4.4.0 in c:\\users\\wedebols\\appdata\\local\\anaconda3\\lib\\site-packages (from word-search-generator) (4.4.0)\n",
      "Requirement already satisfied: Pillow in c:\\users\\wedebols\\appdata\\local\\anaconda3\\lib\\site-packages (from fpdf2==2.4.2->word-search-generator) (9.4.0)\n",
      "Requirement already satisfied: openai in c:\\users\\wedebols\\appdata\\local\\anaconda3\\lib\\site-packages (0.27.2)\n",
      "Requirement already satisfied: requests>=2.20 in c:\\users\\wedebols\\appdata\\local\\anaconda3\\lib\\site-packages (from openai) (2.28.1)\n",
      "Requirement already satisfied: aiohttp in c:\\users\\wedebols\\appdata\\local\\anaconda3\\lib\\site-packages (from openai) (3.8.4)\n",
      "Requirement already satisfied: tqdm in c:\\users\\wedebols\\appdata\\local\\anaconda3\\lib\\site-packages (from openai) (4.64.1)\n",
      "Requirement already satisfied: urllib3<1.27,>=1.21.1 in c:\\users\\wedebols\\appdata\\local\\anaconda3\\lib\\site-packages (from requests>=2.20->openai) (1.26.14)\n",
      "Requirement already satisfied: idna<4,>=2.5 in c:\\users\\wedebols\\appdata\\local\\anaconda3\\lib\\site-packages (from requests>=2.20->openai) (3.4)\n",
      "Requirement already satisfied: certifi>=2017.4.17 in c:\\users\\wedebols\\appdata\\local\\anaconda3\\lib\\site-packages (from requests>=2.20->openai) (2022.12.7)\n",
      "Requirement already satisfied: charset-normalizer<3,>=2 in c:\\users\\wedebols\\appdata\\local\\anaconda3\\lib\\site-packages (from requests>=2.20->openai) (2.0.4)\n",
      "Requirement already satisfied: async-timeout<5.0,>=4.0.0a3 in c:\\users\\wedebols\\appdata\\local\\anaconda3\\lib\\site-packages (from aiohttp->openai) (4.0.2)\n",
      "Requirement already satisfied: attrs>=17.3.0 in c:\\users\\wedebols\\appdata\\local\\anaconda3\\lib\\site-packages (from aiohttp->openai) (22.1.0)\n",
      "Requirement already satisfied: frozenlist>=1.1.1 in c:\\users\\wedebols\\appdata\\local\\anaconda3\\lib\\site-packages (from aiohttp->openai) (1.3.3)\n",
      "Requirement already satisfied: aiosignal>=1.1.2 in c:\\users\\wedebols\\appdata\\local\\anaconda3\\lib\\site-packages (from aiohttp->openai) (1.3.1)\n",
      "Requirement already satisfied: yarl<2.0,>=1.0 in c:\\users\\wedebols\\appdata\\local\\anaconda3\\lib\\site-packages (from aiohttp->openai) (1.8.2)\n",
      "Requirement already satisfied: multidict<7.0,>=4.5 in c:\\users\\wedebols\\appdata\\local\\anaconda3\\lib\\site-packages (from aiohttp->openai) (6.0.4)\n",
      "Requirement already satisfied: colorama in c:\\users\\wedebols\\appdata\\local\\anaconda3\\lib\\site-packages (from tqdm->openai) (0.4.6)\n",
      "Note: you may need to restart the kernel to use updated packages.\n"
     ]
    }
   ],
   "source": [
    "%pip install word-search-generator\n",
    "%pip install openai\n",
    "import os\n",
    "import openai\n",
    "from word_search_generator import WordSearch\n",
    "\n",
    "openai.api_key = os.getenv(\"OPENAI_API_KEY\")"
   ]
  },
  {
   "cell_type": "code",
   "execution_count": 8,
   "metadata": {},
   "outputs": [
    {
     "name": "stdout",
     "output_type": "stream",
     "text": [
      "\n",
      "\n",
      "Performance, Reliability, Scalability, Security, Availability, Compute, Storage, Data, Connectivity, Optimize\n",
      "-------------------------------\n",
      "          WORD SEARCH          \n",
      "-------------------------------\n",
      "O G Q Q X E Q S F F Z J M Z V X\n",
      "W T C O N N E C T I V I T Y Y H\n",
      "K E A N J T U O Z S T D E G Z S\n",
      "K N F C I S E E Z C U A I A O B\n",
      "E R S R W L T T M A N V R P P Y\n",
      "A I R E Y T N X T L K A E E T F\n",
      "P O J Q S H E P D A N I L R I E\n",
      "F C L J D T U S R B K L I F M D\n",
      "Z K L R U R H J O I G A A O I D\n",
      "H G E P Q F T D E L U B B R Z O\n",
      "Q D M E A M M F U I L I I M E V\n",
      "A O M Y Q I S Z S T M L L A M L\n",
      "C W L S W M G U N Y Z I I N K V\n",
      "S H S E C U R I T Y R T T C R I\n",
      "D W Z E S T O R A G E Y Y E P F\n",
      "N C D W Q R D A T A H Q L Z U L\n",
      "\n",
      "Find these words: AVAILABILITY, COMPUTE, CONNECTIVITY, DATA, OPTIMIZE, PERFORMANCE, RELIABILITY, SCALABILITY, SECURITY, STORAGE\n",
      "* Words can go W, E, S, SW, NE, N, NW, and, SE.\n",
      "\n",
      "Answer Key: AVAILABILITY S @ (12, 4), COMPUTE NE @ (1, 13), CONNECTIVITY E @ (3, 2), DATA E @ (7, 16), OPTIMIZE S @ (15, 4), PERFORMANCE S @ (14, 5), RELIABILITY S @ (13, 5), SCALABILITY S @ (10, 3), SECURITY E @ (3, 14), STORAGE E @ (5, 15)\n"
     ]
    }
   ],
   "source": [
    "response = openai.Completion.create(\n",
    "    model=\"text-davinci-003\",\n",
    "    prompt=\"Generate a list of 10 single words related to Azure Synapse Analytics Dedicated SQL Pool. Separate them with a comma\",\n",
    "    temperature=0.7,\n",
    "    max_tokens=300,\n",
    "    top_p=1,\n",
    "    frequency_penalty=0,\n",
    "    presence_penalty=0\n",
    ")\n",
    "wordsToSearch=response.choices[0].text\n",
    "print(wordsToSearch)\n",
    "\n",
    "puzzle = WordSearch(wordsToSearch)\n",
    "puzzle.level = 3\n",
    "print(puzzle)"
   ]
  }
 ],
 "metadata": {
  "kernelspec": {
   "display_name": "base",
   "language": "python",
   "name": "python3"
  },
  "language_info": {
   "codemirror_mode": {
    "name": "ipython",
    "version": 3
   },
   "file_extension": ".py",
   "mimetype": "text/x-python",
   "name": "python",
   "nbconvert_exporter": "python",
   "pygments_lexer": "ipython3",
   "version": "3.10.9"
  },
  "orig_nbformat": 4
 },
 "nbformat": 4,
 "nbformat_minor": 2
}
